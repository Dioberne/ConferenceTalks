{
 "cells": [
  {
   "cell_type": "code",
   "execution_count": 1,
   "metadata": {},
   "outputs": [],
   "source": [
    "import pandas as pd\n",
    "import numpy as np\n",
    "import math\n",
    "import string\n",
    "from sklearn.ensemble import RandomForestClassifier"
   ]
  },
  {
   "cell_type": "code",
   "execution_count": 2,
   "metadata": {},
   "outputs": [],
   "source": [
    "# These are 100 malware domains taken from the Bambenek DGA domain feed. \n",
    "raw_dga_domains = open(\"dga_dns_traffic.csv\").readlines()"
   ]
  },
  {
   "cell_type": "code",
   "execution_count": 3,
   "metadata": {},
   "outputs": [],
   "source": [
    "# We strip off the trailing newline.\n",
    "dga_domains = []\n",
    "for domain in raw_dga_domains:\n",
    "    dga_domains.append(domain.rstrip())"
   ]
  },
  {
   "cell_type": "code",
   "execution_count": 4,
   "metadata": {},
   "outputs": [
    {
     "data": {
      "text/plain": [
       "'dhwcrsensinaix.com'"
      ]
     },
     "execution_count": 4,
     "metadata": {},
     "output_type": "execute_result"
    }
   ],
   "source": [
    "# Visual inspection of the domain shows that it appears very random. \n",
    "dga_domains[0]"
   ]
  },
  {
   "cell_type": "code",
   "execution_count": 5,
   "metadata": {},
   "outputs": [],
   "source": [
    "# These are 100 popular domains taken from Cisco Umbrella.\n",
    "# Umbrella was chosen over otherwise better lists like Tranco because it includes subdomains. \n",
    "raw_whitelisted_domains = open(\"top-100.csv\").readlines()"
   ]
  },
  {
   "cell_type": "code",
   "execution_count": 6,
   "metadata": {},
   "outputs": [],
   "source": [
    "whitelisted_domains = []\n",
    "for domain in raw_whitelisted_domains:\n",
    "    whitelisted_domains.append(domain.rstrip())"
   ]
  },
  {
   "cell_type": "code",
   "execution_count": 7,
   "metadata": {},
   "outputs": [
    {
     "data": {
      "text/plain": [
       "'netflix.com'"
      ]
     },
     "execution_count": 7,
     "metadata": {},
     "output_type": "execute_result"
    }
   ],
   "source": [
    "# We can see that the top domain appears less random and is human recognizable. \n",
    "whitelisted_domains[0]"
   ]
  },
  {
   "cell_type": "code",
   "execution_count": 8,
   "metadata": {},
   "outputs": [],
   "source": [
    "# This is a short, sweet, but probably not correct approximate entropy calculation. \n",
    "def goofy_entropy(input_string):\n",
    "    return len(set(input_string))/len(input_string)"
   ]
  },
  {
   "cell_type": "code",
   "execution_count": 9,
   "metadata": {},
   "outputs": [],
   "source": [
    "## This is a confusing but probably correct approximate entropy calculation. \n",
    "## Original code by Ero Carrera\n",
    "## http://blog.dkbza.org/2007/05/scanning-data-for-entropy-anomalies.html\n",
    "def serious_entropy(input_string):\n",
    "    if not input_string:\n",
    "        return 0\n",
    "\n",
    "    entropy = 0\n",
    "    for character in string.printable:\n",
    "        character_frequency = float(input_string.count(character)) / len(input_string)\n",
    "        if character_frequency > 0:\n",
    "            entropy += -character_frequency * math.log(character_frequency, 2)\n",
    "\n",
    "    return entropy"
   ]
  },
  {
   "cell_type": "code",
   "execution_count": 10,
   "metadata": {},
   "outputs": [],
   "source": [
    "# Just a little Python trick to let us easily try both calculations. \n",
    "entropy = serious_entropy"
   ]
  },
  {
   "cell_type": "code",
   "execution_count": 11,
   "metadata": {},
   "outputs": [],
   "source": [
    "# Based on human visual insection malware domains often appear random. \n",
    "# A human being can differentiate maliscius domains based on it \"looking random\" so approximate entropy makes sense as a feature. \n",
    "# Other types of maliscius activity can be detected by the domain length so we choose that as a second feature. \n",
    "def featurize_domain(input_string):\n",
    "    domain_entropy = entropy(input_string)\n",
    "    domain_length = len(input_string)\n",
    "    \n",
    "    return (domain_entropy, domain_length)"
   ]
  },
  {
   "cell_type": "code",
   "execution_count": 12,
   "metadata": {},
   "outputs": [],
   "source": [
    "labels = []"
   ]
  },
  {
   "cell_type": "code",
   "execution_count": 13,
   "metadata": {},
   "outputs": [],
   "source": [
    "dga_features = []\n",
    "for domain in dga_domains:\n",
    "    dga_features.append(featurize_domain(domain))\n",
    "    labels.append(0) # A label of '0' means maliscius "
   ]
  },
  {
   "cell_type": "code",
   "execution_count": 14,
   "metadata": {},
   "outputs": [],
   "source": [
    "whitelist_features = []\n",
    "for domain in whitelisted_domains:\n",
    "    whitelist_features.append(featurize_domain(domain))\n",
    "    labels.append(1) # A label of '1' means benign "
   ]
  },
  {
   "cell_type": "code",
   "execution_count": 15,
   "metadata": {},
   "outputs": [],
   "source": [
    "features = dga_features + whitelist_features"
   ]
  },
  {
   "cell_type": "code",
   "execution_count": 16,
   "metadata": {},
   "outputs": [],
   "source": [
    "# Random forrests where chosen as they are the most common classification algorithm. \n",
    "# Random forrsts are robust, do not require data normalization, and are an all around solid choice. \n",
    "model = RandomForestClassifier(random_state = 42)"
   ]
  },
  {
   "cell_type": "code",
   "execution_count": 17,
   "metadata": {},
   "outputs": [
    {
     "name": "stderr",
     "output_type": "stream",
     "text": [
      "/home/dioberne/Sandbox/BloomCon/env/local/lib/python2.7/site-packages/sklearn/ensemble/forest.py:246: FutureWarning: The default value of n_estimators will change from 10 in version 0.20 to 100 in 0.22.\n",
      "  \"10 in version 0.20 to 100 in 0.22.\", FutureWarning)\n"
     ]
    }
   ],
   "source": [
    "model = model.fit(features, labels)"
   ]
  },
  {
   "cell_type": "code",
   "execution_count": 18,
   "metadata": {},
   "outputs": [],
   "source": [
    "# These domains are a collection of legitimate domains mixed in with malicious ones. \n",
    "# The 'malicious' domains where generated using https://github.com/alphasoc/flightsim.\n",
    "# The legitimate domains are from Cisco Umbrella (but not overlapping with the training set). \n",
    "raw_unknown_domains = open(\"unknown_dns_traffic.csv\").readlines()"
   ]
  },
  {
   "cell_type": "code",
   "execution_count": 19,
   "metadata": {},
   "outputs": [],
   "source": [
    "unknown_domains = []\n",
    "for domain in raw_unknown_domains:\n",
    "    unknown_domains.append(domain.rstrip())"
   ]
  },
  {
   "cell_type": "code",
   "execution_count": 20,
   "metadata": {},
   "outputs": [],
   "source": [
    "unknown_features = []\n",
    "for domain in unknown_domains:\n",
    "    unknown_features.append(featurize_domain(domain))"
   ]
  },
  {
   "cell_type": "code",
   "execution_count": 21,
   "metadata": {},
   "outputs": [],
   "source": [
    "predictions = model.predict(unknown_features).tolist()"
   ]
  },
  {
   "cell_type": "code",
   "execution_count": 22,
   "metadata": {},
   "outputs": [
    {
     "name": "stdout",
     "output_type": "stream",
     "text": [
      "ggjmlrl.top\n",
      "ggjmlrl.xyz\n",
      "blniypq.top\n",
      "blniypq.xyz\n",
      "entlvvc.top\n",
      "entlvvc.xyz\n",
      "entlvvc.com\n",
      "qzahkrf.xyz\n",
      "mhdqtpw.top\n",
      "mhdqtpw.com\n",
      "tryuevg.top\n",
      "tryuevg.xyz\n",
      "ekgmjxo.top\n",
      "ekgmjxo.xyz\n",
      "ekgmjxo.com\n",
      "vgmwcnj.com\n",
      "mnleyhd.xyz\n",
      "mnleyhd.com\n",
      "tpzutbq.xyz\n",
      "tpzutbq.com\n",
      "jkcubbtzxtgkejptevbhxojsudcdtt.sandbox.alphasoc.xyz\n",
      "vqamvawedpytmrzdpkjuqkoeqedgis.sandbox.alphasoc.xyz\n",
      "gzphmlemmjbycxgtjzdjwylqogouki.sandbox.alphasoc.xyz\n",
      "omnebeglqedjhyulgyzqlftyvlcben.sandbox.alphasoc.xyz\n",
      "mudqxltcsznhyzqmzrexblxslyvulx.sandbox.alphasoc.xyz\n",
      "xyjqjdtpgyqtaepskjadayhhgxjila.sandbox.alphasoc.xyz\n",
      "jzfiimqmrgplwkmmxjohkvlbrcwzow.sandbox.alphasoc.xyz\n",
      "xjswzjbtrrxjohmivtgdkimddyvdsm.sandbox.alphasoc.xyz\n",
      "quslgbkllpfawelrqxwhbtlfufvwfa.sandbox.alphasoc.xyz\n",
      "vnlpmljcxagjstxpjjgrpvzzeekyqg.sandbox.alphasoc.xyz\n",
      "nflximg.com\n",
      "time-ios.apple.com\n",
      "cdn-0.nflximg.com\n",
      "init-p01st.push.apple.com\n",
      "windows.com\n",
      "fe.apple-dns.net\n",
      "vortex-win.data.microsoft.com\n",
      "rubiconproject.com\n",
      "a.akamaiedge.net\n",
      "s0.2mdn.net\n",
      "aaplimg.com\n",
      "ib.adnxs.com\n",
      "dns-test1.hola.org\n",
      "cdn.onenote.net\n",
      "login.windows.net\n",
      "roaming.officeapps.live.com\n",
      "instagram.com\n",
      "edge-mqtt.facebook.com\n",
      "windowsupdate.com\n",
      "googlevideo.com\n",
      "advertising.com\n",
      "addthis.com\n",
      "mail.google.com\n",
      "init.itunes.apple.com\n",
      "match.adsrvr.org\n",
      "everesttech.net\n",
      "gsp64-ssl.ls.apple.com\n",
      "wns.windows.com\n",
      "bidswitch.net\n",
      "quantserve.com\n",
      "e4478.a.akamaiedge.net\n",
      "docs.google.com\n",
      "iecvlist.microsoft.com\n",
      "idsync.rlcdn.com\n",
      "client.wns.windows.com\n"
     ]
    }
   ],
   "source": [
    "for prediction, domain in zip(predictions, unknown_domains):\n",
    "    if prediction == 0:\n",
    "        print(domain)\n",
    "        \n",
    "# We can see here that the model finds a lot of DGA domains and even DNS tunneling. \n",
    "# However it also misclassifies a lot of legitimate domains. \n",
    "# To improve this a resonable next step would be to identify more features to differentiate the two classes better.\n",
    "# Other resonable improvements include training on more data, and tweaking the algorithm's ptional peramaters. "
   ]
  },
  {
   "cell_type": "code",
   "execution_count": null,
   "metadata": {},
   "outputs": [],
   "source": []
  },
  {
   "cell_type": "code",
   "execution_count": null,
   "metadata": {},
   "outputs": [],
   "source": []
  }
 ],
 "metadata": {
  "kernelspec": {
   "display_name": "Python 3",
   "language": "python",
   "name": "python3"
  },
  "language_info": {
   "codemirror_mode": {
    "name": "ipython",
    "version": 2
   },
   "file_extension": ".py",
   "mimetype": "text/x-python",
   "name": "python",
   "nbconvert_exporter": "python",
   "pygments_lexer": "ipython2",
   "version": "2.7.12+"
  }
 },
 "nbformat": 4,
 "nbformat_minor": 2
}
