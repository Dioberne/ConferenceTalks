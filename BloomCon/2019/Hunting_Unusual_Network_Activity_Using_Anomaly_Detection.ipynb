{
 "cells": [
  {
   "cell_type": "code",
   "execution_count": 1,
   "metadata": {},
   "outputs": [],
   "source": [
    "from elasticsearch import Elasticsearch, helpers\n",
    "from elasticsearch_dsl import Search\n",
    "\n",
    "import numpy\n",
    "import pandas\n",
    "import matplotlib.pyplot as plt\n",
    "from sklearn.preprocessing import StandardScaler\n",
    "from sklearn.cluster import DBSCAN"
   ]
  },
  {
   "cell_type": "code",
   "execution_count": 2,
   "metadata": {},
   "outputs": [],
   "source": [
    "# \n",
    "ELASTIC_SERVER_SOCKET = '192.168.56.101:9200'\n",
    "elastic_client = Elasticsearch([ELASTIC_SERVER_SOCKET])"
   ]
  },
  {
   "cell_type": "code",
   "execution_count": 3,
   "metadata": {},
   "outputs": [],
   "source": [
    "search = Search(using=elastic_client, index=\"bro-2017.11.29\").query('exists', field='conn.orig_bytes')"
   ]
  },
  {
   "cell_type": "code",
   "execution_count": 4,
   "metadata": {},
   "outputs": [],
   "source": [
    "bandwidth = []\n",
    "# I am limiting the number of documents so that this runs comfortably on an overworked laptop\n",
    "max_documents = 10000 \n",
    "count = 0\n",
    "for document in search.scan():\n",
    "    if count >= max_documents:\n",
    "        break\n",
    "    else:\n",
    "        count += 1\n",
    "    try:\n",
    "        up = document['conn']['orig_bytes']\n",
    "        down = document['conn']['resp_bytes']\n",
    "        \n",
    "        bandwidth.append((up,down))\n",
    "        \n",
    "    except Exception as e:\n",
    "         print(e)"
   ]
  },
  {
   "cell_type": "code",
   "execution_count": 5,
   "metadata": {},
   "outputs": [],
   "source": [
    "# Notice that this time instead of a dataframe our data is a list of tuples. \n",
    "# Most libraries in the Python data science universe will accept native Python lists, tuples and dictonaries. \n",
    "# These will be converted internally to Pandas dataframes or Numpy arrays. \n",
    "scaled_data = StandardScaler().fit_transform(bandwidth)"
   ]
  },
  {
   "cell_type": "code",
   "execution_count": 6,
   "metadata": {},
   "outputs": [],
   "source": [
    "# DBSCAN was chosen for this demo because it both clusters and identifies anomalies. \n",
    "# DBSCAN requires an inter-clister distence. Points less than that distence merge together. \n",
    "# After merging is complete and clusters with less than the minamum sample count are considered anomalies. \n",
    "clusters =  DBSCAN(eps=1.5, min_samples=10).fit_predict(scaled_data)"
   ]
  },
  {
   "cell_type": "code",
   "execution_count": 7,
   "metadata": {},
   "outputs": [],
   "source": [
    "unique_labels = set(clusters)"
   ]
  },
  {
   "cell_type": "code",
   "execution_count": 8,
   "metadata": {},
   "outputs": [],
   "source": [
    "colors = [plt.cm.Spectral(each) for each in numpy.linspace(0, 1, len(unique_labels))]"
   ]
  },
  {
   "cell_type": "code",
   "execution_count": 9,
   "metadata": {},
   "outputs": [
    {
     "data": {
      "image/png": "[encoded data removed]",
      "text/plain": [
       "<Figure size 500x500 with 1 Axes>"
      ]
     },
     "metadata": {},
     "output_type": "display_data"
    }
   ],
   "source": [
    "fig=plt.figure(figsize=(5, 5), dpi=100, facecolor='w', edgecolor='k')\n",
    "for item, prediction in zip(bandwidth, clusters):\n",
    "    if prediction == -1:\n",
    "        color = 'k' # 'k' is the code for black in matplotlib \n",
    "    else:\n",
    "        color = colors[prediction] \n",
    "        \n",
    "    plt.scatter(item[0], item[1], c=[color], s=50)\n",
    "    \n",
    "plt.show()\n",
    "# We can see that DBSCAN was able to identify areas with few points. \n",
    "# These are less common occurences that may be worth following up on. "
   ]
  },
  {
   "cell_type": "code",
   "execution_count": null,
   "metadata": {},
   "outputs": [],
   "source": []
  }
 ],
 "metadata": {
  "kernelspec": {
   "display_name": "Python 3",
   "language": "python",
   "name": "python3"
  },
  "language_info": {
   "codemirror_mode": {
    "name": "ipython",
    "version": 2
   },
   "file_extension": ".py",
   "mimetype": "text/x-python",
   "name": "python",
   "nbconvert_exporter": "python",
   "pygments_lexer": "ipython2",
   "version": "2.7.12+"
  }
 },
 "nbformat": 4,
 "nbformat_minor": 2
}
